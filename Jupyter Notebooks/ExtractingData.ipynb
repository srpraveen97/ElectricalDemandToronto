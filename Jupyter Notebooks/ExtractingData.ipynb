{
 "cells": [
  {
   "cell_type": "markdown",
   "metadata": {},
   "source": [
    "#### Here BeautifulSoup is used to download the Ontario Electrical demand data from http://reports.ieso.ca/public/DemandZonal/\n",
    "\n",
    "#### The temperature, dewpoint, wind related hourly data was downloaded from https://toronto.weatherstats.ca/download.html"
   ]
  },
  {
   "cell_type": "code",
   "execution_count": 1,
   "metadata": {},
   "outputs": [],
   "source": [
    "import requests\n",
    "from bs4 import BeautifulSoup\n",
    "import re\n",
    "from urllib import request"
   ]
  },
  {
   "cell_type": "code",
   "execution_count": 2,
   "metadata": {},
   "outputs": [],
   "source": [
    "import pandas as pd\n",
    "import numpy as np"
   ]
  },
  {
   "cell_type": "code",
   "execution_count": 3,
   "metadata": {},
   "outputs": [],
   "source": [
    "r = requests.Session().get('http://reports.ieso.ca/public/DemandZonal/')\n",
    "soup = BeautifulSoup(r.content, 'html.parser')"
   ]
  },
  {
   "cell_type": "markdown",
   "metadata": {},
   "source": [
    "We only want the recent data from 2017. Using regular expression to extract the links for 2017 or greater."
   ]
  },
  {
   "cell_type": "code",
   "execution_count": 4,
   "metadata": {},
   "outputs": [],
   "source": [
    "years_list = []\n",
    "[years_list.extend(list(set(re.findall(r'20[0-2][0-9]',str(soup.select(\"a[href$='.csv']\")[item]))))) for item in range(len(soup.select(\"a[href$='.csv']\")))]\n",
    "unique_list = list(set(years_list))\n",
    "unique_list.sort()\n",
    "unique_list = [item for item in unique_list if int(item)>=2017]"
   ]
  },
  {
   "cell_type": "markdown",
   "metadata": {},
   "source": [
    "Since, multiple versions exist, we choose the latest version for a given year."
   ]
  },
  {
   "cell_type": "code",
   "execution_count": 5,
   "metadata": {},
   "outputs": [],
   "source": [
    "index = [max(loc for loc, val in enumerate(years_list) if val == item)+1 for item in unique_list]"
   ]
  },
  {
   "cell_type": "code",
   "execution_count": 6,
   "metadata": {},
   "outputs": [
    {
     "data": {
      "text/plain": [
       "[<a href=\"PUB_DemandZonal_2017_v1.csv\">PUB_DemandZonal_2017_v1.csv</a>,\n",
       " <a href=\"PUB_DemandZonal_2018_v254.csv\">PUB_DemandZonal_2018_v254.csv</a>,\n",
       " <a href=\"PUB_DemandZonal_2019_v395.csv\">PUB_DemandZonal_2019_v395.csv</a>,\n",
       " <a href=\"PUB_DemandZonal_2020_v394.csv\">PUB_DemandZonal_2020_v394.csv</a>,\n",
       " <a href=\"PUB_DemandZonal_2021_v42.csv\">PUB_DemandZonal_2021_v42.csv</a>]"
      ]
     },
     "metadata": {},
     "output_type": "display_data"
    }
   ],
   "source": [
    "relevant_files = [soup.select(\"a[href$='.csv']\")[item] for item in index]\n",
    "display(relevant_files)"
   ]
  },
  {
   "cell_type": "markdown",
   "metadata": {},
   "source": [
    "Writing each text into a CSV file in the Data folder"
   ]
  },
  {
   "cell_type": "code",
   "execution_count": 7,
   "metadata": {},
   "outputs": [],
   "source": [
    "for file in range(len(relevant_files)):\n",
    "    \n",
    "    response = request.urlopen(\"http://reports.ieso.ca/public/DemandZonal/\" + relevant_files[file]['href'])\n",
    "    csv = response.read()\n",
    "\n",
    "    csvstr = str(csv).strip(\"b'\")\n",
    "    lines = csvstr.split(\"\\\\n\")\n",
    "    f = open(\"Data\\\\Demand_\" + unique_list[file] + \".csv\", \"w\")\n",
    "    for line in lines:\n",
    "       f.write(line + \"\\n\")\n",
    "    f.close()"
   ]
  },
  {
   "cell_type": "markdown",
   "metadata": {},
   "source": [
    "#### Organizing the data"
   ]
  },
  {
   "cell_type": "markdown",
   "metadata": {},
   "source": [
    "Importing the CSV files for demand from 2017 to 2021 and the weather data"
   ]
  },
  {
   "cell_type": "code",
   "execution_count": 8,
   "metadata": {},
   "outputs": [],
   "source": [
    "data1 = pd.read_csv('Data/Demand_2017.csv',header=3)\n",
    "data2 = pd.read_csv('Data/Demand_2018.csv',header=3)\n",
    "data3 = pd.read_csv('Data/Demand_2019.csv',header=3)\n",
    "data4 = pd.read_csv('Data/Demand_2020.csv',header=3)\n",
    "data5 = pd.read_csv('Data/Demand_2021.csv',header=3)\n",
    "data = pd.read_csv('Data/Toronto_climate.csv')\n",
    "\n",
    "def strp(x):\n",
    "    return x[:13]\n",
    "\n",
    "data['date_time_local'] = data['date_time_local'].apply(strp)\n",
    "data.rename(columns={'date_time_local':'timestamp'},inplace=True)\n",
    "data = data.loc[::-1].reset_index(drop=True)"
   ]
  },
  {
   "cell_type": "markdown",
   "metadata": {},
   "source": [
    "The weather data starts from 2021 and goes until 2017, while the demand data is the other way around. Therefore, we invert the weather data."
   ]
  },
  {
   "cell_type": "code",
   "execution_count": 9,
   "metadata": {},
   "outputs": [],
   "source": [
    "data['demand'] = pd.concat([data1['Toronto'],data2['Toronto'],data3['Toronto'],data4['Toronto'],data5['Toronto']],axis=0).reset_index(drop=True)"
   ]
  },
  {
   "cell_type": "code",
   "execution_count": 10,
   "metadata": {},
   "outputs": [],
   "source": [
    "data['Ontario_demand'] = pd.concat([data1['Ontario Demand'],data2['Ontario Demand'],data3['Ontario Demand'],data4['Ontario Demand'],data5['Ontario Demand']],axis=0).reset_index(drop=True)"
   ]
  },
  {
   "cell_type": "code",
   "execution_count": 11,
   "metadata": {},
   "outputs": [],
   "source": [
    "data.to_csv('Data/Toronto_data.csv',index=False)"
   ]
  }
 ],
 "metadata": {
  "kernelspec": {
   "display_name": "Python 3",
   "language": "python",
   "name": "python3"
  },
  "language_info": {
   "codemirror_mode": {
    "name": "ipython",
    "version": 3
   },
   "file_extension": ".py",
   "mimetype": "text/x-python",
   "name": "python",
   "nbconvert_exporter": "python",
   "pygments_lexer": "ipython3",
   "version": "3.7.6"
  }
 },
 "nbformat": 4,
 "nbformat_minor": 4
}
